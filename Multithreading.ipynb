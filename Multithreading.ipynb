{
 "cells": [
  {
   "cell_type": "code",
   "execution_count": 19,
   "id": "0d37c7c2-2ac1-4c91-8139-f1aa087a9d16",
   "metadata": {},
   "outputs": [],
   "source": [
    "# # Q1.\n",
    "# Multithreading in Python refers to the ability of a program to execute multiple threads concurrently within a single process. A thread is a separate flow of execution within a program. Multithreading allows different parts of a program to run concurrently, potentially improving performance and responsiveness.\n",
    "\n",
    "# Multithreading is used in Python for following reasons:\n",
    "#     1. Concurrency:\n",
    "#         Multithreading allows concurrent execution of multiple tasks within a single program.\n",
    "#     2. Responsiveness:\n",
    "#         By using threads, we can keep the main program responsive while executing time-consuming or blocking operations in the background.\n",
    "#     3. Parallelism for I/O-bound tasks:\n",
    "#         In our program, while one thread is waiting for I/O, other threads can continue execution, making progress on their respective tasks.\n",
    "#     4. Simplifying program structure:\n",
    "#         It allows us to break down complex operations into smaller, more manageable threads, making the code easier to understand, develop, and maintain.\n",
    "\n",
    "# In Python, the 'threading' module provides a way to create and manage threads."
   ]
  },
  {
   "cell_type": "code",
   "execution_count": 20,
   "id": "7bf8e12a-a5a4-4860-82e6-ad77123b2a46",
   "metadata": {},
   "outputs": [],
   "source": [
    "# # Q2.\n",
    "# 'threading' module is used in python for following reasons:\n",
    "#     1. Thread creation and management:\n",
    "#         The threading module provides classes and functions for creating and managing threads. It offers a simple and intuitive way to create threads, start them, and control their execution.\n",
    "#     2. Concurrency and responsiveness:\n",
    "#         By using threads, we can achieve concurrency and improve the responsiveness of our program.\n",
    "#     3. Thread pooling:\n",
    "#         The module includes a ThreadPoolExecutor class that simplifies the management of a pool of worker threads. Thread pooling is useful when we have a set of tasks to be executed concurrently, and we want to limit the number of threads created to avoid resource exhaustion.\n",
    "#     4. Integration with other modules:\n",
    "#         The threading module integrates well with other Python modules and frameworks.\n",
    "        \n",
    "# The uses of the following functions are :\n",
    "#     1. active_count():\n",
    "#             It returns the number of Thread objects currently alive. This function allows us to retrieve the count of active threads within our program.\n",
    "#     2. current_thread():\n",
    "#             It returns the current Thread object corresponding to the caller's thread of execution. This function allows us to obtain a reference to the currently executing thread.\n",
    "#     3. enumerate():\n",
    "#             It allows us to iterate over an iterable while simultaneously obtaining the index and value of each element. The enumerate() function returns an iterator that produces tuples containing two elements: the index and the corresponding value from the iterable.\n",
    "            "
   ]
  },
  {
   "cell_type": "code",
   "execution_count": 21,
   "id": "e0a6ace4-afc8-42e0-a534-256dc9fdaf13",
   "metadata": {},
   "outputs": [],
   "source": [
    "# # Q3.\n",
    "#     1. run():\n",
    "#         The run() method is the entry point for the thread's execution. When the start() method is called on a thread object, it internally calls the run() method of that object. we can't call the run() method directly; instead, use the start() method to start the thread and execute its run() method. By overriding the run() method, we can define the specific behavior or task that the thread should perform.\n",
    "#     2. start():\n",
    "#         It is a method provided by the Thread class in the threading module. The start() method is used to start the execution of a thread.\n",
    "#     3. join():\n",
    "#         It is a method provided by the Thread class in the threading module. The join() method is used to wait for a thread to complete its execution before proceeding with the rest of the program. When we call the join() method on a thread object, the program will pause and wait until that thread finishes its execution.\n",
    "#     4. isAlive():\n",
    "#         It is a method provided by the Thread class in the threading module. The isAlive() method is used to check if a thread is currently alive and actively running. When we call the isAlive() method on a thread object, it returns a boolean value indicating whether the thread is still running or has completed its execution."
   ]
  },
  {
   "cell_type": "code",
   "execution_count": 22,
   "id": "d1d939e5-99b0-4ab9-be1b-6a5bdcdf978e",
   "metadata": {},
   "outputs": [
    {
     "name": "stdout",
     "output_type": "stream",
     "text": [
      "[4, 9, 16, 25, 36, 81]\n",
      "[8, 27, 64, 125, 216, 729]\n"
     ]
    }
   ],
   "source": [
    "# Q4.\n",
    "import threading\n",
    "def square(l):\n",
    "    list_sqr = list(map(lambda x : x**2, l))\n",
    "    print(list_sqr)\n",
    "    \n",
    "def cube(l):\n",
    "    list_cube = list(map(lambda x : x**3, l))\n",
    "    print(list_cube)\n",
    "    \n",
    "l = [2,3,4,5,6,9]\n",
    "threads = []\n",
    "thread = threading.Thread(target=square, args =(l,))\n",
    "thread.start()\n",
    "threads.append(thread)\n",
    "\n",
    "thread = threading.Thread(target=cube, args=(l,))\n",
    "thread.start()\n",
    "threads.append(thread)\n",
    "\n",
    "for thread in threads:\n",
    "    thread.join()"
   ]
  },
  {
   "cell_type": "code",
   "execution_count": 23,
   "id": "1f9660c3-0757-4fe4-b8ee-90355b3ce647",
   "metadata": {},
   "outputs": [],
   "source": [
    "# # Q5.\n",
    "# *Advantages of Multithreading:\n",
    "#     1. Concurrency:\n",
    "#         Multithreading allows for concurrent execution of multiple tasks within a single program.\n",
    "#     2. Responsiveness:\n",
    "#         By using threads, we can keep the main program responsive while executing time-consuming or blocking operations in the background.\n",
    "#     3. Parallelism for I/O-bound tasks:\n",
    "#          In our program, while one thread is waiting for I/O, other threads can continue execution, making progress on their respective tasks.\n",
    "#     4. Simplifying program structure:\n",
    "#         It allows us to break down complex operations into smaller, more manageable threads, making the code easier to understand, develop, and maintain.\n",
    "\n",
    "# *Disadvantages of Multithreading:\n",
    "#     1. Synchronization and Data Integrity:\n",
    "#         Multithreading introduces challenges related to synchronization and data integrity. \n",
    "#     2. Debugging Complexity:\n",
    "#         Debugging multithreaded Python programs can be challenging due to the potential for timing-related issues, race conditions, and thread interactions.\n",
    "#     3. Increased Overhead:\n",
    "#         Multithreading introduces additional overhead in terms of memory usage and context switching.\n",
    "#     4. Limited CPU Parallelism:\n",
    "#         Due to the Global Interpreter Lock (GIL), multithreading in Python does not provide true parallelism for CPU-bound tasks. "
   ]
  },
  {
   "cell_type": "code",
   "execution_count": 24,
   "id": "b8329634-b098-41cc-88bd-67cbdffeb991",
   "metadata": {},
   "outputs": [],
   "source": [
    "# # Q6.\n",
    "# * Deadlock:\n",
    "#     A deadlock is a situation where two or more threads or processes are unable to proceed because each is waiting for the other to release a resource or complete a task.\n",
    "# * Race Condition:\n",
    "#     A race condition occurs when multiple threads or processes access and manipulate shared data concurrently, leading to unpredictable or incorrect behavior. It happens when the outcome of the program depends on the relative timing or interleaving of operations by different threads."
   ]
  }
 ],
 "metadata": {
  "kernelspec": {
   "display_name": "Python 3 (ipykernel)",
   "language": "python",
   "name": "python3"
  },
  "language_info": {
   "codemirror_mode": {
    "name": "ipython",
    "version": 3
   },
   "file_extension": ".py",
   "mimetype": "text/x-python",
   "name": "python",
   "nbconvert_exporter": "python",
   "pygments_lexer": "ipython3",
   "version": "3.10.8"
  }
 },
 "nbformat": 4,
 "nbformat_minor": 5
}
